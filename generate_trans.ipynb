{
 "cells": [
  {
   "cell_type": "code",
   "execution_count": 2,
   "metadata": {},
   "outputs": [],
   "source": [
    "import csv\n",
    "import os\n",
    "import numpy as np\n",
    "import pandas as pd\n",
    "import sklearn.metrics as mm\n",
    "import sys\n",
    "# sir_inference imports\n",
    "from sir_model import FastProximityModel, patient_zeros_states\n",
    "from ranking import csr_to_list\n",
    "import os.path\n",
    "from os import path\n",
    "N=500000\n",
    "## new try with 100 spreaders\n",
    "N_patient_zero = 200;\n",
    "lamb = 0.03;\n",
    "mu = 1/12;\n",
    "scale=1.0; # Easy Case\n",
    "T=100;\n",
    "seeds=[32,123,456]\n",
    "#seed=int();"
   ]
  },
  {
   "cell_type": "code",
   "execution_count": null,
   "metadata": {},
   "outputs": [
    {
     "name": "stdout",
     "output_type": "stream",
     "text": [
      "Generate network with N=500000 T=100 scale=1.0 default lambda=0.03 seed=32...\n",
      "Will save in networks\n",
      "Generating transmissions\n",
      "t = 0 / 100\n",
      "t = 2 / 100\n",
      "t = 4 / 100\n",
      "t = 6 / 100\n",
      "t = 8 / 100\n",
      "t = 10 / 100\n",
      "t = 12 / 100\n",
      "t = 14 / 100\n",
      "t = 16 / 100\n",
      "t = 18 / 100\n"
     ]
    }
   ],
   "source": [
    "for seed in seeds:\n",
    "    print(\"Generate network with N=%d T=%d scale=%.1f default lambda=%.2f seed=%d...\"%(N,T,scale,lamb,seed), flush=True)\n",
    "    initial_states = patient_zeros_states(N, N_patient_zero)\n",
    "    model = FastProximityModel(N, scale, mu, lamb, initial_states)\n",
    "    location=\"networks\"\n",
    "    if path.isdir(location) : print(\"Will save in \"+location)\n",
    "    else : \n",
    "        print(\"log file not found. was looking for: \\n \"+location+\"\\n Bye Bye\")\n",
    "        sys.exit()\n",
    "    model.run(T=T, print_every=2)\n",
    "    # model.get_counts().plot(\n",
    "    #     title=f\"N_patient_zero={N_patient_zero} lamb={lamb:.2f}  mu={mu:.2f}\"\n",
    "    # );\n",
    "    print(\"Saving transmissions...\", flush=True)\n",
    "    logfile=\"interactions_proximity_N%dK_s%.1f_T%d_lamb%.2f_s%d.csv\"%(N/1000,scale,T,lamb,seed)\n",
    "    with open(location+\"/\"+logfile, 'w', newline='') as csvfile:\n",
    "        fieldnames = ['t', 'i', 'j', 'lamb']\n",
    "        writer = csv.DictWriter(csvfile, fieldnames=fieldnames)\n",
    "        writer.writeheader()\n",
    "        for t, A in enumerate(model.transmissions):\n",
    "            for i, j, lamb in csr_to_list(A):\n",
    "                writer.writerow(dict(t=t, i=i, j=j, lamb=lamb))\n",
    "    print(\"Bye-Bye\")"
   ]
  },
  {
   "cell_type": "code",
   "execution_count": null,
   "metadata": {},
   "outputs": [],
   "source": []
  }
 ],
 "metadata": {
  "kernelspec": {
   "display_name": "Python 3",
   "language": "python",
   "name": "python3"
  },
  "language_info": {
   "codemirror_mode": {
    "name": "ipython",
    "version": 3
   },
   "file_extension": ".py",
   "mimetype": "text/x-python",
   "name": "python",
   "nbconvert_exporter": "python",
   "pygments_lexer": "ipython3",
   "version": "3.7.5"
  }
 },
 "nbformat": 4,
 "nbformat_minor": 4
}
