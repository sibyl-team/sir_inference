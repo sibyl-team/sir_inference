{
 "cells": [
  {
   "cell_type": "code",
   "execution_count": 15,
   "metadata": {},
   "outputs": [],
   "source": [
    "import sys\n",
    "sys.path.insert(0,'../sib/')\n",
    "import sib\n",
    "import csv\n",
    "import os\n",
    "import numpy as np\n",
    "import pandas as pd\n",
    "import sklearn.metrics as mm\n",
    "import sys\n",
    "# sir_inference imports\n",
    "from sir_model import FastProximityModel, patient_zeros_states\n",
    "from ranking import csr_to_list\n",
    "import os.path\n",
    "from os import path\n",
    "N=2000\n",
    "#N=50000\n",
    "## new try with 100 spreaders\n",
    "N_patient_zero = 12;\n",
    "#N_patient_zero = 5;\n",
    "lamb = 0.05;\n",
    "mu = 0.02;\n",
    "scale=1.0; # Easy Case\n",
    "T=100;\n",
    "seeds=[5]\n",
    "#seed=int();"
   ]
  },
  {
   "cell_type": "code",
   "execution_count": 16,
   "metadata": {},
   "outputs": [
    {
     "data": {
      "text/plain": [
       "<bound method Path.mkdir of PosixPath('loc')>"
      ]
     },
     "execution_count": 16,
     "metadata": {},
     "output_type": "execute_result"
    }
   ],
   "source": [
    "Path(\"loc\").mkdir"
   ]
  },
  {
   "cell_type": "code",
   "execution_count": 17,
   "metadata": {},
   "outputs": [],
   "source": [
    "from pathlib import Path"
   ]
  },
  {
   "cell_type": "code",
   "execution_count": 46,
   "metadata": {
    "scrolled": true
   },
   "outputs": [
    {
     "name": "stdout",
     "output_type": "stream",
     "text": [
      "Generate network with N=2000 T=100 scale=1.0 default lambda=0.05 seed=5...\n",
      "Generating transmissions\n",
      "t = 0 / 100\n",
      "t = 2 / 100\n",
      "t = 4 / 100\n",
      "t = 6 / 100\n",
      "t = 8 / 100\n",
      "t = 10 / 100\n",
      "t = 12 / 100\n",
      "t = 14 / 100\n",
      "t = 16 / 100\n",
      "t = 18 / 100\n",
      "t = 20 / 100\n",
      "t = 22 / 100\n",
      "t = 24 / 100\n",
      "t = 26 / 100\n",
      "t = 28 / 100\n",
      "t = 30 / 100\n",
      "t = 32 / 100\n",
      "t = 34 / 100\n",
      "t = 36 / 100\n",
      "t = 38 / 100\n",
      "t = 40 / 100\n",
      "t = 42 / 100\n",
      "t = 44 / 100\n",
      "t = 46 / 100\n",
      "t = 48 / 100\n",
      "t = 50 / 100\n",
      "t = 52 / 100\n",
      "t = 54 / 100\n",
      "t = 56 / 100\n",
      "t = 58 / 100\n",
      "t = 60 / 100\n",
      "t = 62 / 100\n",
      "t = 64 / 100\n",
      "t = 66 / 100\n",
      "t = 68 / 100\n",
      "t = 70 / 100\n",
      "t = 72 / 100\n",
      "t = 74 / 100\n",
      "t = 76 / 100\n",
      "t = 78 / 100\n",
      "t = 80 / 100\n",
      "t = 82 / 100\n",
      "t = 84 / 100\n",
      "t = 86 / 100\n",
      "t = 88 / 100\n",
      "t = 90 / 100\n",
      "t = 92 / 100\n",
      "t = 94 / 100\n",
      "t = 96 / 100\n",
      "t = 98 / 100\n",
      "Running SIR simulation\n",
      "t = 0 / 100\n",
      "t = 2 / 100\n",
      "t = 4 / 100\n",
      "t = 6 / 100\n",
      "t = 8 / 100\n",
      "t = 10 / 100\n",
      "t = 12 / 100\n",
      "t = 14 / 100\n",
      "t = 16 / 100\n",
      "t = 18 / 100\n",
      "t = 20 / 100\n",
      "t = 22 / 100\n",
      "t = 24 / 100\n",
      "t = 26 / 100\n",
      "t = 28 / 100\n",
      "t = 30 / 100\n",
      "t = 32 / 100\n",
      "t = 34 / 100\n",
      "t = 36 / 100\n",
      "t = 38 / 100\n",
      "t = 40 / 100\n",
      "t = 42 / 100\n",
      "t = 44 / 100\n",
      "t = 46 / 100\n",
      "t = 48 / 100\n",
      "t = 50 / 100\n",
      "t = 52 / 100\n",
      "t = 54 / 100\n",
      "t = 56 / 100\n",
      "t = 58 / 100\n",
      "t = 60 / 100\n",
      "t = 62 / 100\n",
      "t = 64 / 100\n",
      "t = 66 / 100\n",
      "t = 68 / 100\n",
      "t = 70 / 100\n",
      "t = 72 / 100\n",
      "t = 74 / 100\n",
      "t = 76 / 100\n",
      "t = 78 / 100\n",
      "t = 80 / 100\n",
      "t = 82 / 100\n",
      "t = 84 / 100\n",
      "t = 86 / 100\n",
      "t = 88 / 100\n",
      "t = 90 / 100\n",
      "t = 92 / 100\n",
      "t = 94 / 100\n",
      "t = 96 / 100\n",
      "t = 98 / 100\n",
      "Saving transmissions...\n",
      "Bye-Bye\n"
     ]
    },
    {
     "data": {
      "image/png": "[encoded data removed]",
      "text/plain": [
       "<Figure size 432x288 with 1 Axes>"
      ]
     },
     "metadata": {
      "needs_background": "light"
     },
     "output_type": "display_data"
    }
   ],
   "source": [
    "for seed in seeds:\n",
    "    print(\"Generate network with N=%d T=%d scale=%.1f default lambda=%.2f seed=%d...\"%(N,T,scale,lamb,seed), flush=True)\n",
    "    initial_states = patient_zeros_states(N, N_patient_zero)\n",
    "    model = FastProximityModel(N, scale, mu, lamb, initial_states)\n",
    "    location=\"networks\"\n",
    "    folder=Path(location)\n",
    "    if not folder.exists():\n",
    "        folder.mkdir()\n",
    "    \n",
    "    model.run(T=T, print_every=2)\n",
    "    model.get_counts().plot(\n",
    "         title=f\"N_patient_zero={N_patient_zero} lamb={lamb:.2f}  mu={mu:.2f}\"\n",
    "    );\n",
    "    \n",
    "\n",
    "    print(\"Saving transmissions...\", flush=True)\n",
    "    logfile=\"interactions_proximity_N%dK_s%.1f_T%d_lamb%.2f_s%d.csv\"%(N/1000,scale,T,lamb,seed)\n",
    "    #with open(location+\"/\"+logfile, 'w', newline='') as csvfile:\n",
    "    datafr=[]\n",
    "    for t, A in enumerate(model.transmissions):\n",
    "        ct = ranking.csr_to_dataframe(model.transmissions[t], columns=[\"i\",\"j\",\"lamb\"])\n",
    "        ct[\"t\"]=t\n",
    "        datafr.append(ct)\n",
    "    cts_out = pd.concat(datafr, ignore_index=True)[[\"t\",\"i\",\"j\",\"lamb\"]]\n",
    "    cts_out.to_csv(location+\"/\"+logfile)\n",
    "        \n",
    "    print(\"Bye-Bye\")"
   ]
  },
  {
   "cell_type": "code",
   "execution_count": 53,
   "metadata": {},
   "outputs": [],
   "source": [
    "cts_out.to_parquet(\"contacts_proximity_N{:d}K_s{:.1f}_T{:d}_lamb{}_s{:d}.pq\".format(round(N/1000)\n",
    "                                                                        ,scale,T,lamb,seed),\n",
    "                   index=False,\n",
    "                  compression=\"gzip\")"
   ]
  },
  {
   "cell_type": "code",
   "execution_count": null,
   "metadata": {},
   "outputs": [],
   "source": []
  }
 ],
 "metadata": {
  "kernelspec": {
   "display_name": "Python 3",
   "language": "python",
   "name": "python3"
  },
  "language_info": {
   "codemirror_mode": {
    "name": "ipython",
    "version": 3
   },
   "file_extension": ".py",
   "mimetype": "text/x-python",
   "name": "python",
   "nbconvert_exporter": "python",
   "pygments_lexer": "ipython3",
   "version": "3.7.9"
  }
 },
 "nbformat": 4,
 "nbformat_minor": 4
}
