{
 "cells": [
  {
   "cell_type": "code",
   "execution_count": 1,
   "metadata": {},
   "outputs": [
    {
     "name": "stdout",
     "output_type": "stream",
     "text": [
      "Generate network with N=50000 T=100 scale=1.0 default lambda=0.03 seed=1...\n",
      "Will save in networks\n",
      "Generating transmissions\n",
      "t = 0 / 100\n",
      "t = 20 / 100\n",
      "t = 40 / 100\n",
      "t = 60 / 100\n",
      "t = 80 / 100\n",
      "Running SIR simulation\n",
      "t = 0 / 100\n",
      "t = 20 / 100\n",
      "t = 40 / 100\n",
      "t = 60 / 100\n",
      "t = 80 / 100\n",
      "Saving transmissions...\n",
      "Bye-Bye\n"
     ]
    }
   ],
   "source": [
    "import csv\n",
    "import os\n",
    "import numpy as np\n",
    "import pandas as pd\n",
    "import sklearn.metrics as mm\n",
    "import sys\n",
    "# sir_inference imports\n",
    "from sir_model import FastProximityModel, patient_zeros_states\n",
    "from ranking import csr_to_list\n",
    "import os.path\n",
    "from os import path\n",
    "N=50000\n",
    "## new try with 100 spreaders\n",
    "N_patient_zero = 20;\n",
    "lamb = 0.03;\n",
    "mu = 0.01;\n",
    "scale=1.0; # Easy Case\n",
    "T=100;\n",
    "seed=1\n",
    "#seed=int();\n",
    "print(\"Generate network with N=%d T=%d scale=%.1f default lambda=%.2f seed=%d...\"%(N,T,scale,lamb,seed), flush=True)\n",
    "initial_states = patient_zeros_states(N, N_patient_zero)\n",
    "model = FastProximityModel(N, scale, mu, lamb, initial_states)\n",
    "location=\"networks\"\n",
    "if path.isdir(location) : print(\"Will save in \"+location)\n",
    "else : \n",
    "    print(\"log file not found. was looking for: \\n \"+location+\"\\n Bye Bye\")\n",
    "    sys.exit()\n",
    "model.run(T=T, print_every=20)\n",
    "# model.get_counts().plot(\n",
    "#     title=f\"N_patient_zero={N_patient_zero} lamb={lamb:.2f}  mu={mu:.2f}\"\n",
    "# );\n",
    "print(\"Saving transmissions...\", flush=True)\n",
    "logfile=\"interactions_proximity_N%dK_s%.1f_T%d_lamb%.2f_s%d.csv\"%(N/1000,scale,T,lamb,seed)\n",
    "with open(location+\"/\"+logfile, 'w', newline='') as csvfile:\n",
    "    fieldnames = ['t', 'i', 'j', 'lamb']\n",
    "    writer = csv.DictWriter(csvfile, fieldnames=fieldnames)\n",
    "    writer.writeheader()\n",
    "    for t, A in enumerate(model.transmissions):\n",
    "        for i, j, lamb in csr_to_list(A):\n",
    "            writer.writerow(dict(t=t, i=i, j=j, lamb=lamb))\n",
    "print(\"Bye-Bye\")"
   ]
  },
  {
   "cell_type": "code",
   "execution_count": 2,
   "metadata": {},
   "outputs": [
    {
     "name": "stdout",
     "output_type": "stream",
     "text": [
      "Start : No App on Proximity Newtork\n",
      "seed = 1\n",
      "Loading model from networks/interactions_proximity_N50K_s1.0_T100_lamb0.03_s1.csv\n",
      "Load Proximity model\n",
      "Loading transmissions from networks/interactions_proximity_N50K_s1.0_T100_lamb0.03_s1.csv\n",
      "Loading took 28.8s\n",
      "Running SIR simulation\n",
      "t = 0 / 100\n",
      "t = 50 / 100\n",
      "Save plain dynamics\n",
      "Using ranking_random to rank\n",
      "Using seed=1\n",
      "Selecting 0/50000 untracked individuals\n",
      "Save random strategy\n",
      "Using ranking_tracing to rank\n",
      "Using seed=1\n",
      "Selecting 0/50000 untracked individuals\n",
      "Save tracing strategy\n",
      "Using ranking_backtrack to rank\n",
      "Using seed=1\n",
      "Selecting 0/50000 untracked individuals\n",
      "Save MF strategy\n",
      "End seed\n"
     ]
    }
   ],
   "source": [
    "import sys\n",
    "from time import time\n",
    "import numpy as np\n",
    "import pandas as pd\n",
    "import os.path\n",
    "from os import path\n",
    "from scenario import Scenario\n",
    "from sir_model import EpidemicModel, patient_zeros_states, symptomatic_individuals\n",
    "from ranking import RANKINGS\n",
    "\n",
    "# SIR parameters\n",
    "location=\"networks\"\n",
    "t1 = 10;\n",
    "# trac parameters\n",
    "trac_tau = 5;\n",
    "# MF parameters\n",
    "MF_taus = [5];\n",
    "MF_deltas = [15];\n",
    "# observation parameters\n",
    "n_rankings = [50]\n",
    "#seed = int(sys.argv[2]);\n",
    "#seeds for running [32,123,456]\n",
    "#seed=int(sys.argv[1]);\n",
    "################################################\n",
    "for MF_tau in MF_taus:\n",
    "    for MF_delta in MF_deltas:\n",
    "        print(\"Start : No App on Proximity Newtork\", flush=True)\n",
    "        for n_ranking in n_rankings:\n",
    "            log_fname=\"interactions_proximity_N%dK_s%.1f_T%d_lamb%.2f_s%d.csv\"%(N/1000,scale,T,lamb,seed)\n",
    "            csv_file=location+\"/\"+log_fname\n",
    "            print(\"seed = %d\"%seed, flush=True)\n",
    "            np.random.seed(seed);\n",
    "            if path.exists(csv_file): print(\"Loading model from %s\"%csv_file)\n",
    "            else:\n",
    "                print(\"Could not find the file! Was looking for \\n \"+csv_file+\"\\n Bye-Bye\")\n",
    "                sys.exit()\n",
    "            print(\"Load Proximity model\", flush=True)\n",
    "            tic = time()\n",
    "            model = EpidemicModel(initial_states=np.zeros(N), x_pos=np.zeros(N), y_pos=np.zeros(N))\n",
    "            model.load_transmissions(csv_file)\n",
    "            model.recover_probas = mu*np.ones(N)\n",
    "            print(f\"Loading took {time()-tic:.1f}s\",flush=True)\n",
    "            model.initial_states = patient_zeros_states(N, N_patient_zero)\n",
    "            model.time_evolution(model.recover_probas, model.transmissions, print_every=50)\n",
    "            t_max = len(model.transmissions)\n",
    "            print(\"Save plain dynamics\", flush=True)\n",
    "            db = pd.DataFrame()\n",
    "            db[\"S\"] = np.sum(model.states==0,axis=1)\n",
    "            db[\"I\"] = np.sum(model.states==1,axis=1)\n",
    "            db[\"R\"] = np.sum(model.states==2,axis=1)\n",
    "            db.to_csv(\"csv/Proximity_N%dK_T%d_s1_ti%d_pz%d_mu%.2f_l%.2f_seed%d.csv\"%(N/1000,T,t1,N_patient_zero,mu,lamb,seed),\n",
    "                      index=False, sep=\"\\t\")\n",
    "            del db\n",
    "            model.initial_states = model.states[t1]\n",
    "            model.states = model.states[t1:]\n",
    "            model.transmissions = model.transmissions[t1:]\n",
    "            intervention_options=dict(quarantine_time=50)\n",
    "            observation_options=dict(n_random=0,n_infected=0,n_ranking=n_ranking, p_symptomatic=0.5, tau=5)\n",
    "            scenario_rnd = Scenario(\n",
    "                model, seed=seed, \n",
    "                ranking_options=dict(ranking=RANKINGS[\"random\"]),\n",
    "                observation_options=observation_options,\n",
    "                intervention_options=intervention_options\n",
    "            )\n",
    "            scenario_rnd.run(t_max-t1)\n",
    "            print(\"Save random strategy\", flush=True)\n",
    "            scenario_rnd.counts.to_csv(\"csv/Proximity_N%dK_T%d_s1_ti%d_pz%d_mu%.2f_l%.2f_seed%d_obs%d_rnd.csv\"%(N/1000,T,t1,N_patient_zero,mu,lamb,seed,n_ranking),\n",
    "                      index=False, sep=\"\\t\")\n",
    "            del scenario_rnd\n",
    "            for p_untracked in [0]:\n",
    "                observation_options=dict(n_random=0,n_infected=0,n_ranking=n_ranking, p_symptomatic=0.5, tau=5, p_untracked=p_untracked)\n",
    "                scenario_trac = Scenario(    model, seed=seed, \n",
    "                    ranking_options=dict(ranking=RANKINGS[\"tracing\"], tau=5),\n",
    "                    observation_options=observation_options,\n",
    "                    intervention_options=intervention_options\n",
    "                )\n",
    "                scenario_trac.run(t_max-t1)\n",
    "                print(\"Save tracing strategy\", flush=True)\n",
    "                if p_untracked==0:\n",
    "                    scenario_trac.counts.to_csv(\"csv/Proximity_N%dK_T%d_s1_ti%d_pz%d_mu%.2f_l%.2f_seed%d_obs%d_trac_t%d.csv\"%(N/1000,T,t1,N_patient_zero,mu,lamb,seed,n_ranking,trac_tau),\n",
    "                              index=False, sep=\"\\t\")\n",
    "                else:\n",
    "                    scenario_trac.counts.to_csv(\"csv/Proximity_N%dK_T%d_s1_ti%d_pz%d_mu%.2f_l%.2f_seed%d_obs%d_noapp%.2f_trac_t%d.csv\"%(N/1000,T,t1,N_patient_zero,mu,lamb,seed,n_ranking,p_untracked,trac_tau),\n",
    "                              index=False, sep=\"\\t\")\n",
    "                del scenario_trac\n",
    "                scenario_MF = Scenario(\n",
    "                    model, seed=seed, \n",
    "                    ranking_options=dict(ranking=RANKINGS[\"backtrack\"], algo=\"MF\", init=\"all_S\", tau=5, delta=10), \n",
    "                    observation_options=observation_options,\n",
    "                    intervention_options=intervention_options\n",
    "                )\n",
    "                scenario_MF.run(t_max-t1)\n",
    "                print(\"Save MF strategy\", flush=True)\n",
    "                if p_untracked==0:\n",
    "                    scenario_MF.counts.to_csv(\"csv/Proximity_N%dK_T%d_s1_ti%d_pz%d_mu%.2f_l%.2f_seed%d_obs%d_MF_t%d_d%d.csv\"%(N/1000,T,t1,N_patient_zero,mu,lamb,seed,n_ranking,MF_tau,MF_delta),\n",
    "                              index=False, sep=\"\\t\")\n",
    "                else:\n",
    "                    scenario_MF.counts.to_csv(\"csv/Proximity_N%dK_T%d_s1_ti%d_pz%d_mu%.2f_l%.2f_seed%d_obs%d_noapp%.2f_MF_t%d_d%d.csv\"%(N/1000,T,t1,N_patient_zero,mu,lamb,seed,n_ranking,p_untracked,MF_tau,MF_delta),\n",
    "                              index=False, sep=\"\\t\")\n",
    "                del scenario_MF\n",
    "            # 1h01min per round\n",
    "print(\"End seed\", flush=True)\n",
    "#del model"
   ]
  },
  {
   "cell_type": "code",
   "execution_count": 7,
   "metadata": {},
   "outputs": [],
   "source": [
    "import sys\n",
    "sys.path.insert(0,'../loop_abm/src/')\n",
    "import abm_utils\n",
    "import sib\n",
    "import scipy\n",
    "from loop_ranker import sib_rank, sib_drop_rank, greedy_rank, dotd_rank, mean_field_rank, tracing_rank, winbp_rank, winbp_prob0_rank\n",
    "pseed=10/N\n",
    "psus = 0.52\n",
    "\n",
    "class dummy_logger():\n",
    "    def info(self, x):\n",
    "        print(x)\n",
    "        \n",
    "class bp_ranker_class(winbp_prob0_rank.WinBPProb0Ranker):\n",
    "    \n",
    "    def step_scenario(self, t, model, observations, params):\n",
    "        data = {}\n",
    "        data[\"logger\"] = dummy_logger()\n",
    "        daily_contacts = [(i, j, t, l) for i, j, l in list(csr_to_list(model.transmissions[t]))]\n",
    "        daily_obs = []\n",
    "        print(\"SCENARIO BP\")\n",
    "        print(t, \"obs\", len(observations))\n",
    "        if len(observations)!=0:\n",
    "            observations = pd.DataFrame(observations)\n",
    "            #print(observations)\n",
    "            observations = observations[observations[\"t_test\"] == t-1]\n",
    "            #print(t, observations)\n",
    "            daily_obs = list(observations[[\"i\", \"s\", \"t_test\"]].itertuples(index=False, name=None))  \n",
    "        #print(t, daily_contacts[0])\n",
    "        #print(t, daily_obs)\n",
    "        rank_algo = self.rank(t, daily_contacts, daily_obs, data)\n",
    "        rank = sorted(rank_algo, key= lambda tup: tup[1], reverse=True)\n",
    "        rank = [(int(tup[0]), tup[1])  for tup in rank]\n",
    "        rank_pd = pd.DataFrame(rank, columns=[\"i\", \"score\"])\n",
    "        rank_pd[\"rank\"] = range(model.N)\n",
    "        #print(rank_pd)\n",
    "        return rank_pd"
   ]
  },
  {
   "cell_type": "code",
   "execution_count": 15,
   "metadata": {},
   "outputs": [
    {
     "name": "stdout",
     "output_type": "stream",
     "text": [
      "Using step_scenario to rank\n",
      "Using seed=1\n",
      "Selecting 0/50000 untracked individuals\n",
      "SCENARIO BP\n",
      "0 obs 0\n",
      "winBP: (S,I,R): (49981.0, 18.3, 0.6), seeds: 19.0, ll: -32677.4\n",
      "here\n",
      "t = 0 / 90\n",
      "inside print every\n",
      "        S   I  R  q\n",
      "t                  \n",
      "0   49912  83  5  0\n",
      "1   50000   0  0  0\n",
      "2   50000   0  0  0\n",
      "3   50000   0  0  0\n",
      "4   50000   0  0  0\n",
      "..    ...  .. .. ..\n",
      "85  50000   0  0  0\n",
      "86  50000   0  0  0\n",
      "87  50000   0  0  0\n",
      "88  50000   0  0  0\n",
      "89  50000   0  0  0\n",
      "\n",
      "[90 rows x 4 columns] csv/temp_scenario.csv\n"
     ]
    },
    {
     "ename": "AttributeError",
     "evalue": "'Scenario' object has no attribute 'count'",
     "output_type": "error",
     "traceback": [
      "\u001b[0;31m---------------------------------------------------------------------------\u001b[0m",
      "\u001b[0;31mAttributeError\u001b[0m                            Traceback (most recent call last)",
      "\u001b[0;32m<ipython-input-15-4d2c72d72ccd>\u001b[0m in \u001b[0;36m<module>\u001b[0;34m\u001b[0m\n\u001b[1;32m     21\u001b[0m     \u001b[0mintervention_options\u001b[0m\u001b[0;34m=\u001b[0m\u001b[0mintervention_options\u001b[0m\u001b[0;34m\u001b[0m\u001b[0;34m\u001b[0m\u001b[0m\n\u001b[1;32m     22\u001b[0m )\n\u001b[0;32m---> 23\u001b[0;31m \u001b[0mscenario_trac\u001b[0m\u001b[0;34m.\u001b[0m\u001b[0mrun\u001b[0m\u001b[0;34m(\u001b[0m\u001b[0mt_max\u001b[0m\u001b[0;34m-\u001b[0m\u001b[0mt1\u001b[0m\u001b[0;34m,\u001b[0m \u001b[0mprint_every\u001b[0m \u001b[0;34m=\u001b[0m \u001b[0;36m1\u001b[0m\u001b[0;34m)\u001b[0m\u001b[0;34m\u001b[0m\u001b[0;34m\u001b[0m\u001b[0m\n\u001b[0m\u001b[1;32m     24\u001b[0m \u001b[0mprint\u001b[0m\u001b[0;34m(\u001b[0m\u001b[0;34m\"Save bp strategy\"\u001b[0m\u001b[0;34m,\u001b[0m \u001b[0mflush\u001b[0m\u001b[0;34m=\u001b[0m\u001b[0;32mTrue\u001b[0m\u001b[0;34m)\u001b[0m\u001b[0;34m\u001b[0m\u001b[0;34m\u001b[0m\u001b[0m\n\u001b[1;32m     25\u001b[0m scenario_trac.counts.to_csv(\"csv/Proximity_N%dK_T%d_s1_ti%d_pz%d_mu%.2f_l%.2f_seed%d_obs%d_bp%d.csv\"%(N, T,t1,N_patient_zero,mu,lamb,seed,n_ranking,trac_tau),\n",
      "\u001b[0;32m~/git/sir_inference/scenario.py\u001b[0m in \u001b[0;36mrun\u001b[0;34m(self, t_max, print_every)\u001b[0m\n\u001b[1;32m    275\u001b[0m                 \u001b[0mprint\u001b[0m\u001b[0;34m(\u001b[0m\u001b[0;34m\"inside print every\"\u001b[0m\u001b[0;34m)\u001b[0m\u001b[0;34m\u001b[0m\u001b[0;34m\u001b[0m\u001b[0m\n\u001b[1;32m    276\u001b[0m                 \u001b[0mprint\u001b[0m\u001b[0;34m(\u001b[0m\u001b[0mself\u001b[0m\u001b[0;34m.\u001b[0m\u001b[0mcounts\u001b[0m\u001b[0;34m,\u001b[0m \u001b[0mself\u001b[0m\u001b[0;34m.\u001b[0m\u001b[0msave_csv\u001b[0m\u001b[0;34m)\u001b[0m\u001b[0;34m\u001b[0m\u001b[0;34m\u001b[0m\u001b[0m\n\u001b[0;32m--> 277\u001b[0;31m                 \u001b[0mself\u001b[0m\u001b[0;34m.\u001b[0m\u001b[0mcount\u001b[0m\u001b[0;34m.\u001b[0m\u001b[0mto_csv\u001b[0m\u001b[0;34m(\u001b[0m\u001b[0mself\u001b[0m\u001b[0;34m.\u001b[0m\u001b[0msave_csv\u001b[0m\u001b[0;34m)\u001b[0m\u001b[0;34m\u001b[0m\u001b[0;34m\u001b[0m\u001b[0m\n\u001b[0m\u001b[1;32m    278\u001b[0m \u001b[0;34m\u001b[0m\u001b[0m\n\u001b[1;32m    279\u001b[0m         \u001b[0;31m# store as dataframes\u001b[0m\u001b[0;34m\u001b[0m\u001b[0;34m\u001b[0m\u001b[0;34m\u001b[0m\u001b[0m\n",
      "\u001b[0;31mAttributeError\u001b[0m: 'Scenario' object has no attribute 'count'"
     ]
    }
   ],
   "source": [
    "import imp\n",
    "import scenario\n",
    "imp.reload(scenario)\n",
    "from scenario import Scenario\n",
    "observation_options=dict(n_random=0,n_infected=0,n_ranking=n_ranking, p_symptomatic=0.5, tau=5, p_untracked=p_untracked)\n",
    "name_csv = \"csv/Proximity_N%dK_T%d_s1_ti%d_pz%d_mu%.2f_l%.2f_seed%d_obs%d_bp%d.csv\"%(N, T,t1,N_patient_zero,mu,lamb,seed,n_ranking,trac_tau\n",
    "bp_ranker = bp_ranker_class(params = sib.Params(\n",
    "                                 prob_r = sib.Exponential(mu=1/30),\n",
    "                                 pseed = pseed,\n",
    "                                 psus = psus),\n",
    "                 maxit0 = 20,\n",
    "                 maxit1 = 20,\n",
    "                 tol = 1e-3,\n",
    "                 memory_decay = 1e-2,\n",
    "                 window_length = 20,\n",
    "                 tau = 7)\n",
    "bp_ranker.init(N, T)\n",
    "bp_ranker.__name__ = \"bp\"\n",
    "scenario_trac = Scenario( model, seed=seed, \n",
    "    ranking_options=dict(ranking=bp_ranker.step_scenario),\n",
    "    observation_options=observation_options,\n",
    "    intervention_options=intervention_options,\n",
    "                         name_csv = name_csv\n",
    ")\n",
    "scenario_trac.run(t_max-t1, print_every = 1)\n",
    "print(\"Save bp strategy\", flush=True)\n",
    "scenario_trac.counts.to_csv(name_csv,\n",
    "          index=False, sep=\"\\t\")\n"
   ]
  },
  {
   "cell_type": "code",
   "execution_count": 5,
   "metadata": {},
   "outputs": [],
   "source": [
    "bp_ranker = bp_ranker_class(params = sib.Params(\n",
    "                                 prob_r = sib.Exponential(mu=1/30),\n",
    "                                 pseed = pseed,\n",
    "                                 psus = psus),\n",
    "                 maxit0 = 20,\n",
    "                 maxit1 = 20,\n",
    "                 tol = 1e-3,\n",
    "                 memory_decay = 1e-2,\n",
    "                 window_length = 20,\n",
    "                 tau = 7)\n",
    "bp_ranker.init(N, T)"
   ]
  },
  {
   "cell_type": "code",
   "execution_count": null,
   "metadata": {},
   "outputs": [],
   "source": [
    "bp_ranker.rank()"
   ]
  },
  {
   "cell_type": "code",
   "execution_count": 41,
   "metadata": {},
   "outputs": [],
   "source": [
    "a = model.transmissions[0]"
   ]
  },
  {
   "cell_type": "code",
   "execution_count": 60,
   "metadata": {},
   "outputs": [],
   "source": [
    "from ranking import RANKINGS, csr_to_list\n"
   ]
  },
  {
   "cell_type": "code",
   "execution_count": 62,
   "metadata": {},
   "outputs": [],
   "source": [
    "a = csr_to_list(model.transmissions[0])"
   ]
  },
  {
   "cell_type": "code",
   "execution_count": 67,
   "metadata": {},
   "outputs": [],
   "source": [
    "t = 0\n",
    "daily_contacts = [(i, j, t, l) for i, j, l in list(csr_to_list(model.transmissions[t]))]"
   ]
  },
  {
   "cell_type": "code",
   "execution_count": 69,
   "metadata": {},
   "outputs": [
    {
     "data": {
      "text/plain": [
       "5406"
      ]
     },
     "execution_count": 69,
     "metadata": {},
     "output_type": "execute_result"
    }
   ],
   "source": [
    "len(daily_contacts)"
   ]
  },
  {
   "cell_type": "code",
   "execution_count": 59,
   "metadata": {},
   "outputs": [
    {
     "data": {
      "text/plain": [
       "(1000, 1000)"
      ]
     },
     "execution_count": 59,
     "metadata": {},
     "output_type": "execute_result"
    }
   ],
   "source": [
    "model.transmissions[0].toarray().shape"
   ]
  },
  {
   "cell_type": "code",
   "execution_count": 33,
   "metadata": {},
   "outputs": [
    {
     "data": {
      "text/plain": [
       "array([0.01, 0.01, 0.01, 0.01, 0.01, 0.01, 0.01, 0.01, 0.01, 0.01, 0.01,\n",
       "       0.01, 0.01, 0.01, 0.01, 0.01, 0.01, 0.01, 0.01, 0.01, 0.01, 0.01,\n",
       "       0.01, 0.01, 0.01, 0.01, 0.01, 0.01, 0.01, 0.01, 0.01, 0.01, 0.01,\n",
       "       0.01, 0.01, 0.01, 0.01, 0.01, 0.01, 0.01, 0.01, 0.01, 0.01, 0.01,\n",
       "       0.01, 0.01, 0.01, 0.01, 0.01, 0.01, 0.01, 0.01, 0.01, 0.01, 0.01,\n",
       "       0.01, 0.01, 0.01, 0.01, 0.01, 0.01, 0.01, 0.01, 0.01, 0.01, 0.01,\n",
       "       0.01, 0.01, 0.01, 0.01, 0.01, 0.01, 0.01, 0.01, 0.01, 0.01, 0.01,\n",
       "       0.01, 0.01, 0.01, 0.01, 0.01, 0.01, 0.01, 0.01, 0.01, 0.01, 0.01,\n",
       "       0.01, 0.01, 0.01, 0.01, 0.01, 0.01, 0.01, 0.01, 0.01, 0.01, 0.01,\n",
       "       0.01, 0.01, 0.01, 0.01, 0.01, 0.01, 0.01, 0.01, 0.01, 0.01, 0.01,\n",
       "       0.01, 0.01, 0.01, 0.01, 0.01, 0.01, 0.01, 0.01, 0.01, 0.01, 0.01,\n",
       "       0.01, 0.01, 0.01, 0.01, 0.01, 0.01, 0.01, 0.01, 0.01, 0.01, 0.01,\n",
       "       0.01, 0.01, 0.01, 0.01, 0.01, 0.01, 0.01, 0.01, 0.01, 0.01, 0.01,\n",
       "       0.01, 0.01, 0.01, 0.01, 0.01, 0.01, 0.01, 0.01, 0.01, 0.01, 0.01,\n",
       "       0.01, 0.01, 0.01, 0.01, 0.01, 0.01, 0.01, 0.01, 0.01, 0.01, 0.01,\n",
       "       0.01, 0.01, 0.01, 0.01, 0.01, 0.01, 0.01, 0.01, 0.01, 0.01, 0.01,\n",
       "       0.01, 0.01, 0.01, 0.01, 0.01, 0.01, 0.01, 0.01, 0.01, 0.01, 0.01,\n",
       "       0.01, 0.01, 0.01, 0.01, 0.01, 0.01, 0.01, 0.01, 0.01, 0.01, 0.01,\n",
       "       0.01, 0.01, 0.01, 0.01, 0.01, 0.01, 0.01, 0.01, 0.01, 0.01, 0.01,\n",
       "       0.01, 0.01, 0.01, 0.01, 0.01, 0.01, 0.01, 0.01, 0.01, 0.01, 0.01,\n",
       "       0.01, 0.01, 0.01, 0.01, 0.01, 0.01, 0.01, 0.01, 0.01, 0.01, 0.01,\n",
       "       0.01, 0.01, 0.01, 0.01, 0.01, 0.01, 0.01, 0.01, 0.01, 0.01, 0.01,\n",
       "       0.01, 0.01, 0.01, 0.01, 0.01, 0.01, 0.01, 0.01, 0.01, 0.01, 0.01,\n",
       "       0.01, 0.01, 0.01, 0.01, 0.01, 0.01, 0.01, 0.01, 0.01, 0.01, 0.01,\n",
       "       0.01, 0.01, 0.01, 0.01, 0.01, 0.01, 0.01, 0.01, 0.01, 0.01, 0.01,\n",
       "       0.01, 0.01, 0.01, 0.01, 0.01, 0.01, 0.01, 0.01, 0.01, 0.01, 0.01,\n",
       "       0.01, 0.01, 0.01, 0.01, 0.01, 0.01, 0.01, 0.01, 0.01, 0.01, 0.01,\n",
       "       0.01, 0.01, 0.01, 0.01, 0.01, 0.01, 0.01, 0.01, 0.01, 0.01, 0.01,\n",
       "       0.01, 0.01, 0.01, 0.01, 0.01, 0.01, 0.01, 0.01, 0.01, 0.01, 0.01,\n",
       "       0.01, 0.01, 0.01, 0.01, 0.01, 0.01, 0.01, 0.01, 0.01, 0.01, 0.01,\n",
       "       0.01, 0.01, 0.01, 0.01, 0.01, 0.01, 0.01, 0.01, 0.01, 0.01, 0.01,\n",
       "       0.01, 0.01, 0.01, 0.01, 0.01, 0.01, 0.01, 0.01, 0.01, 0.01, 0.01,\n",
       "       0.01, 0.01, 0.01, 0.01, 0.01, 0.01, 0.01, 0.01, 0.01, 0.01, 0.01,\n",
       "       0.01, 0.01, 0.01, 0.01, 0.01, 0.01, 0.01, 0.01, 0.01, 0.01, 0.01,\n",
       "       0.01, 0.01, 0.01, 0.01, 0.01, 0.01, 0.01, 0.01, 0.01, 0.01, 0.01,\n",
       "       0.01, 0.01, 0.01, 0.01, 0.01, 0.01, 0.01, 0.01, 0.01, 0.01, 0.01,\n",
       "       0.01, 0.01, 0.01, 0.01, 0.01, 0.01, 0.01, 0.01, 0.01, 0.01, 0.01,\n",
       "       0.01, 0.01, 0.01, 0.01, 0.01, 0.01, 0.01, 0.01, 0.01, 0.01, 0.01,\n",
       "       0.01, 0.01, 0.01, 0.01, 0.01, 0.01, 0.01, 0.01, 0.01, 0.01, 0.01,\n",
       "       0.01, 0.01, 0.01, 0.01, 0.01, 0.01, 0.01, 0.01, 0.01, 0.01, 0.01,\n",
       "       0.01, 0.01, 0.01, 0.01, 0.01, 0.01, 0.01, 0.01, 0.01, 0.01, 0.01,\n",
       "       0.01, 0.01, 0.01, 0.01, 0.01, 0.01, 0.01, 0.01, 0.01, 0.01, 0.01,\n",
       "       0.01, 0.01, 0.01, 0.01, 0.01, 0.01, 0.01, 0.01, 0.01, 0.01, 0.01,\n",
       "       0.01, 0.01, 0.01, 0.01, 0.01, 0.01, 0.01, 0.01, 0.01, 0.01, 0.01,\n",
       "       0.01, 0.01, 0.01, 0.01, 0.01, 0.01, 0.01, 0.01, 0.01, 0.01, 0.01,\n",
       "       0.01, 0.01, 0.01, 0.01, 0.01, 0.01, 0.01, 0.01, 0.01, 0.01, 0.01,\n",
       "       0.01, 0.01, 0.01, 0.01, 0.01, 0.01, 0.01, 0.01, 0.01, 0.01, 0.01,\n",
       "       0.01, 0.01, 0.01, 0.01, 0.01, 0.01, 0.01, 0.01, 0.01, 0.01, 0.01,\n",
       "       0.01, 0.01, 0.01, 0.01, 0.01, 0.01, 0.01, 0.01, 0.01, 0.01, 0.01,\n",
       "       0.01, 0.01, 0.01, 0.01, 0.01, 0.01, 0.01, 0.01, 0.01, 0.01, 0.01,\n",
       "       0.01, 0.01, 0.01, 0.01, 0.01, 0.01, 0.01, 0.01, 0.01, 0.01, 0.01,\n",
       "       0.01, 0.01, 0.01, 0.01, 0.01, 0.01, 0.01, 0.01, 0.01, 0.01, 0.01,\n",
       "       0.01, 0.01, 0.01, 0.01, 0.01, 0.01, 0.01, 0.01, 0.01, 0.01, 0.01,\n",
       "       0.01, 0.01, 0.01, 0.01, 0.01, 0.01, 0.01, 0.01, 0.01, 0.01, 0.01,\n",
       "       0.01, 0.01, 0.01, 0.01, 0.01, 0.01, 0.01, 0.01, 0.01, 0.01, 0.01,\n",
       "       0.01, 0.01, 0.01, 0.01, 0.01, 0.01, 0.01, 0.01, 0.01, 0.01, 0.01,\n",
       "       0.01, 0.01, 0.01, 0.01, 0.01, 0.01, 0.01, 0.01, 0.01, 0.01, 0.01,\n",
       "       0.01, 0.01, 0.01, 0.01, 0.01, 0.01, 0.01, 0.01, 0.01, 0.01, 0.01,\n",
       "       0.01, 0.01, 0.01, 0.01, 0.01, 0.01, 0.01, 0.01, 0.01, 0.01, 0.01,\n",
       "       0.01, 0.01, 0.01, 0.01, 0.01, 0.01, 0.01, 0.01, 0.01, 0.01, 0.01,\n",
       "       0.01, 0.01, 0.01, 0.01, 0.01, 0.01, 0.01, 0.01, 0.01, 0.01, 0.01,\n",
       "       0.01, 0.01, 0.01, 0.01, 0.01, 0.01, 0.01, 0.01, 0.01, 0.01, 0.01,\n",
       "       0.01, 0.01, 0.01, 0.01, 0.01, 0.01, 0.01, 0.01, 0.01, 0.01, 0.01,\n",
       "       0.01, 0.01, 0.01, 0.01, 0.01, 0.01, 0.01, 0.01, 0.01, 0.01, 0.01,\n",
       "       0.01, 0.01, 0.01, 0.01, 0.01, 0.01, 0.01, 0.01, 0.01, 0.01, 0.01,\n",
       "       0.01, 0.01, 0.01, 0.01, 0.01, 0.01, 0.01, 0.01, 0.01, 0.01, 0.01,\n",
       "       0.01, 0.01, 0.01, 0.01, 0.01, 0.01, 0.01, 0.01, 0.01, 0.01, 0.01,\n",
       "       0.01, 0.01, 0.01, 0.01, 0.01, 0.01, 0.01, 0.01, 0.01, 0.01, 0.01,\n",
       "       0.01, 0.01, 0.01, 0.01, 0.01, 0.01, 0.01, 0.01, 0.01, 0.01, 0.01,\n",
       "       0.01, 0.01, 0.01, 0.01, 0.01, 0.01, 0.01, 0.01, 0.01, 0.01, 0.01,\n",
       "       0.01, 0.01, 0.01, 0.01, 0.01, 0.01, 0.01, 0.01, 0.01, 0.01, 0.01,\n",
       "       0.01, 0.01, 0.01, 0.01, 0.01, 0.01, 0.01, 0.01, 0.01, 0.01, 0.01,\n",
       "       0.01, 0.01, 0.01, 0.01, 0.01, 0.01, 0.01, 0.01, 0.01, 0.01, 0.01,\n",
       "       0.01, 0.01, 0.01, 0.01, 0.01, 0.01, 0.01, 0.01, 0.01, 0.01, 0.01,\n",
       "       0.01, 0.01, 0.01, 0.01, 0.01, 0.01, 0.01, 0.01, 0.01, 0.01, 0.01,\n",
       "       0.01, 0.01, 0.01, 0.01, 0.01, 0.01, 0.01, 0.01, 0.01, 0.01, 0.01,\n",
       "       0.01, 0.01, 0.01, 0.01, 0.01, 0.01, 0.01, 0.01, 0.01, 0.01, 0.01,\n",
       "       0.01, 0.01, 0.01, 0.01, 0.01, 0.01, 0.01, 0.01, 0.01, 0.01, 0.01,\n",
       "       0.01, 0.01, 0.01, 0.01, 0.01, 0.01, 0.01, 0.01, 0.01, 0.01, 0.01,\n",
       "       0.01, 0.01, 0.01, 0.01, 0.01, 0.01, 0.01, 0.01, 0.01, 0.01, 0.01,\n",
       "       0.01, 0.01, 0.01, 0.01, 0.01, 0.01, 0.01, 0.01, 0.01, 0.01, 0.01,\n",
       "       0.01, 0.01, 0.01, 0.01, 0.01, 0.01, 0.01, 0.01, 0.01, 0.01, 0.01,\n",
       "       0.01, 0.01, 0.01, 0.01, 0.01, 0.01, 0.01, 0.01, 0.01, 0.01, 0.01,\n",
       "       0.01, 0.01, 0.01, 0.01, 0.01, 0.01, 0.01, 0.01, 0.01, 0.01, 0.01,\n",
       "       0.01, 0.01, 0.01, 0.01, 0.01, 0.01, 0.01, 0.01, 0.01, 0.01, 0.01,\n",
       "       0.01, 0.01, 0.01, 0.01, 0.01, 0.01, 0.01, 0.01, 0.01, 0.01, 0.01,\n",
       "       0.01, 0.01, 0.01, 0.01, 0.01, 0.01, 0.01, 0.01, 0.01, 0.01, 0.01,\n",
       "       0.01, 0.01, 0.01, 0.01, 0.01, 0.01, 0.01, 0.01, 0.01, 0.01, 0.01,\n",
       "       0.01, 0.01, 0.01, 0.01, 0.01, 0.01, 0.01, 0.01, 0.01, 0.01, 0.01,\n",
       "       0.01, 0.01, 0.01, 0.01, 0.01, 0.01, 0.01, 0.01, 0.01, 0.01, 0.01,\n",
       "       0.01, 0.01, 0.01, 0.01, 0.01, 0.01, 0.01, 0.01, 0.01, 0.01])"
      ]
     },
     "execution_count": 33,
     "metadata": {},
     "output_type": "execute_result"
    }
   ],
   "source": [
    "model.recover_probas"
   ]
  },
  {
   "cell_type": "code",
   "execution_count": 21,
   "metadata": {},
   "outputs": [
    {
     "data": {
      "text/plain": [
       "__main__.bp_ranker"
      ]
     },
     "execution_count": 21,
     "metadata": {},
     "output_type": "execute_result"
    }
   ],
   "source": [
    "bp_ranker"
   ]
  },
  {
   "cell_type": "code",
   "execution_count": 16,
   "metadata": {},
   "outputs": [
    {
     "data": {
      "text/plain": [
       "(100, 1000)"
      ]
     },
     "execution_count": 16,
     "metadata": {},
     "output_type": "execute_result"
    }
   ],
   "source": [
    "T, N"
   ]
  },
  {
   "cell_type": "code",
   "execution_count": 17,
   "metadata": {},
   "outputs": [],
   "source": [
    "winbp20prob0_tau7.init(T, N)"
   ]
  },
  {
   "cell_type": "code",
   "execution_count": null,
   "metadata": {},
   "outputs": [],
   "source": [
    "scenario_BP = Scenario(\n",
    "                    model, seed=seed, \n",
    "                    ranking_options=dict(ranking=RANKINGS[\"backtrack\"], algo=\"MF\", init=\"all_S\", tau=5, delta=10), \n",
    "                    observation_options=observation_options,\n",
    "                    intervention_options=intervention_options\n",
    "                )"
   ]
  },
  {
   "cell_type": "code",
   "execution_count": null,
   "metadata": {},
   "outputs": [],
   "source": []
  }
 ],
 "metadata": {
  "kernelspec": {
   "display_name": "Python 3",
   "language": "python",
   "name": "python3"
  },
  "language_info": {
   "codemirror_mode": {
    "name": "ipython",
    "version": 3
   },
   "file_extension": ".py",
   "mimetype": "text/x-python",
   "name": "python",
   "nbconvert_exporter": "python",
   "pygments_lexer": "ipython3",
   "version": "3.7.5"
  }
 },
 "nbformat": 4,
 "nbformat_minor": 4
}
